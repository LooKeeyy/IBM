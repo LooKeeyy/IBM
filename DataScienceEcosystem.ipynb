{
 "cells": [
  {
   "cell_type": "markdown",
   "id": "2dba368d-4c6b-4296-8d21-8685dcdae95c",
   "metadata": {},
   "source": [
    "<h1>Data Science Tools and Ecosystem</h1>"
   ]
  },
  {
   "cell_type": "markdown",
   "id": "183727c0-5de0-4f6e-b5fe-1ef194f04c54",
   "metadata": {},
   "source": [
    "<h2>In this notebookk, Data Science Tools and Ecosystem are summarized.</h2>"
   ]
  },
  {
   "cell_type": "markdown",
   "id": "5a37f5af-eb1c-4525-a626-02fbd4de5088",
   "metadata": {
    "tags": []
   },
   "source": [
    "<h4>Some of the popular languages that Data Scientist use are:</h4>\n",
    "<ol>\n",
    "    <li>Julia</li>\n",
    "    <li>Python</li>\n",
    "    <li>R</li>\n",
    "</ol>"
   ]
  },
  {
   "cell_type": "markdown",
   "id": "767021d9-a2ee-47db-ad83-21096db0e238",
   "metadata": {},
   "source": [
    "<h4>Some of the commonly used libraries used by Data Scientist include:</h4>\n",
    "<ol>\n",
    "    <li>TensorFlow</li>\n",
    "    <li>NumPy</li>\n",
    "    <li>Scipy</li>\n",
    "</ol>"
   ]
  },
  {
   "cell_type": "markdown",
   "id": "921971b4-54a3-438c-9710-a3a742970301",
   "metadata": {},
   "source": [
    "<table>\n",
    "    <tr>\n",
    "        <th>Data Science Tools</th>\n",
    "    </tr>\n",
    "    <tr>\n",
    "        <td>JupyterLab</td>\n",
    "    </tr>\n",
    "    <tr>\n",
    "        <td>IBM Watson Studio</td>\n",
    "    </tr>\n",
    "    <tr>\n",
    "        <td>DataSpell</td>\n",
    "    </tr>\n",
    "</table>"
   ]
  },
  {
   "cell_type": "markdown",
   "id": "1e35a610-27d6-4184-b082-74b91ef2c241",
   "metadata": {},
   "source": [
    "<h3>Below are a few examples of evaluating arithmetic expressions in Python</h3>"
   ]
  },
  {
   "cell_type": "code",
   "execution_count": 12,
   "id": "22a006a1-c1e6-4292-95b2-40e24efa4be1",
   "metadata": {},
   "outputs": [
    {
     "data": {
      "text/plain": [
       "17"
      ]
     },
     "execution_count": 12,
     "metadata": {},
     "output_type": "execute_result"
    }
   ],
   "source": [
    "#This is a simple arithhmetic expression to multiply then add integers\n",
    "(3*4)+5"
   ]
  },
  {
   "cell_type": "code",
   "execution_count": 19,
   "id": "51139c50-5d66-4716-a072-42f080838866",
   "metadata": {},
   "outputs": [
    {
     "name": "stdout",
     "output_type": "stream",
     "text": [
      "3.3333333333333335\n"
     ]
    }
   ],
   "source": [
    "#This will convert 200 minutes to hours by diving by 60\n",
    "minutes = 200\n",
    "hours = minutes/60\n",
    "print(hours)"
   ]
  },
  {
   "cell_type": "markdown",
   "id": "3a8d6c5f-411a-48bb-921a-3d0b5f4425b2",
   "metadata": {},
   "source": [
    "<h4><strong>Objectives:</strong></h4>\n",
    "<ul>\n",
    "     <li>List popular languages for Data Science</li>\n",
    "     <li>List popular tools for Data Science</li>\n",
    "     <li>List popular libraries for Data Science</li>\n",
    "</ul>"
   ]
  },
  {
   "cell_type": "markdown",
   "id": "7a75f67f-603b-4a58-9c47-9b2a236c5b75",
   "metadata": {},
   "source": [
    "<h2>Author</h2>\n",
    "<h3>Liviu-Andrei Druga</h3>"
   ]
  },
  {
   "cell_type": "code",
   "execution_count": null,
   "id": "9df39684-732e-4057-9970-f03bc57477d2",
   "metadata": {},
   "outputs": [],
   "source": []
  }
 ],
 "metadata": {
  "kernelspec": {
   "display_name": "Python",
   "language": "python",
   "name": "conda-env-python-py"
  },
  "language_info": {
   "codemirror_mode": {
    "name": "ipython",
    "version": 3
   },
   "file_extension": ".py",
   "mimetype": "text/x-python",
   "name": "python",
   "nbconvert_exporter": "python",
   "pygments_lexer": "ipython3",
   "version": "3.7.12"
  }
 },
 "nbformat": 4,
 "nbformat_minor": 5
}
